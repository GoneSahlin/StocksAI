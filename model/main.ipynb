{
 "cells": [
  {
   "cell_type": "code",
   "execution_count": 1,
   "metadata": {},
   "outputs": [
    {
     "name": "stderr",
     "output_type": "stream",
     "text": [
      "2023-03-29 20:00:48.351745: I tensorflow/tsl/cuda/cudart_stub.cc:28] Could not find cuda drivers on your machine, GPU will not be used.\n",
      "2023-03-29 20:00:48.398783: I tensorflow/tsl/cuda/cudart_stub.cc:28] Could not find cuda drivers on your machine, GPU will not be used.\n",
      "2023-03-29 20:00:48.399715: I tensorflow/core/platform/cpu_feature_guard.cc:182] This TensorFlow binary is optimized to use available CPU instructions in performance-critical operations.\n",
      "To enable the following instructions: AVX2 FMA, in other operations, rebuild TensorFlow with the appropriate compiler flags.\n",
      "2023-03-29 20:00:49.429465: W tensorflow/compiler/tf2tensorrt/utils/py_utils.cc:38] TF-TRT Warning: Could not find TensorRT\n"
     ]
    }
   ],
   "source": [
    "import tensorflow as tf\n",
    "import pandas as pd\n",
    "import polars as pl\n",
    "import numpy as np\n",
    "import IPython\n",
    "import matplotlib.pyplot as plt\n",
    "import seaborn as sns\n",
    "import importlib\n",
    "\n",
    "from window_generator import WindowGenerator\n",
    "from window_generator_2 import WindowGenerator2"
   ]
  },
  {
   "cell_type": "code",
   "execution_count": 2,
   "metadata": {},
   "outputs": [],
   "source": [
    "df = pd.read_csv(\"../data/F_prices.csv\")\n",
    "df2 = pl.read_csv(\"../data/F_prices.csv\")\n",
    "\n",
    "# clean data\n",
    "df = df.drop(columns='Date')\n",
    "df2.drop_in_place('Date')\n",
    "\n",
    "\n",
    "# split data\n",
    "n = len(df)\n",
    "train_df = df[0:int(n*0.7)]\n",
    "val_df = df[int(n*0.7):int(n*0.9)]\n",
    "test_df = df[int(n*0.9):]\n",
    "\n",
    "n2 = len(df)\n",
    "train_df2 = df2[0:int(n*0.7)]\n",
    "val_df2 = df2[int(n*0.7):int(n*0.9)]\n",
    "test_df2 = df2[int(n*0.9):]\n",
    "\n",
    "# normalize data\n",
    "train_mean = train_df.mean()\n",
    "train_std = train_df.std()\n",
    "\n",
    "train_df = (train_df - train_mean) / train_std\n",
    "val_df = (val_df - train_mean) / train_std\n",
    "test_df = (test_df - train_mean) / train_std\n",
    "\n",
    "train_mean2 = train_df2.mean()\n",
    "train_std2 = train_df2.std()\n",
    "\n",
    "train_df2 = train_df2.with_columns([\n",
    "    (pl.col(label) - train_mean2[label]) / train_std2[label] for label in train_mean2.columns\n",
    "])\n",
    "\n",
    "val_df2 = val_df2.with_columns([\n",
    "    (pl.col(label) - train_mean2[label]) / train_std2[label] for label in train_mean2.columns\n",
    "])\n",
    "\n",
    "test_df2 = test_df2.with_columns([\n",
    "    (pl.col(label) - train_mean2[label]) / train_std2[label] for label in train_mean2.columns\n",
    "])\n"
   ]
  },
  {
   "cell_type": "code",
   "execution_count": 3,
   "metadata": {},
   "outputs": [
    {
     "data": {
      "text/plain": [
       "[Text(0, 0, 'Price'), Text(1, 0, 'Volume')]"
      ]
     },
     "execution_count": 3,
     "metadata": {},
     "output_type": "execute_result"
    },
    {
     "data": {
      "image/png": "[encoded data removed]",
      "text/plain": [
       "<Figure size 1200x600 with 1 Axes>"
      ]
     },
     "metadata": {},
     "output_type": "display_data"
    }
   ],
   "source": [
    "df_std2 = df2.with_columns([\n",
    "    (pl.col(label) - train_mean2[label]) / train_std2[label] for label in train_mean2.columns\n",
    "])\n",
    "df_std2 = df_std2.melt(value_vars=df_std2.columns)\n",
    "plt.figure(figsize=(12, 6))\n",
    "ax = sns.violinplot(x='variable', y='value', data=df_std2.to_pandas())\n",
    "ax.set_xticklabels(labels=ax.get_xticklabels(), rotation=90)"
   ]
  },
  {
   "cell_type": "code",
   "execution_count": 6,
   "metadata": {},
   "outputs": [
    {
     "ename": "NameError",
     "evalue": "name 'WindowGenerator' is not defined",
     "output_type": "error",
     "traceback": [
      "\u001b[0;31m---------------------------------------------------------------------------\u001b[0m",
      "\u001b[0;31mNameError\u001b[0m                                 Traceback (most recent call last)",
      "Cell \u001b[0;32mIn[6], line 1\u001b[0m\n\u001b[0;32m----> 1\u001b[0m window \u001b[39m=\u001b[39m WindowGenerator(input_width\u001b[39m=\u001b[39m\u001b[39m10\u001b[39m, label_width\u001b[39m=\u001b[39m\u001b[39m10\u001b[39m, shift\u001b[39m=\u001b[39m\u001b[39m1\u001b[39m, label_columns\u001b[39m=\u001b[39m[\u001b[39m'\u001b[39m\u001b[39mPrice\u001b[39m\u001b[39m'\u001b[39m], train_df\u001b[39m=\u001b[39mtrain_df, val_df\u001b[39m=\u001b[39mval_df, test_df\u001b[39m=\u001b[39mtest_df)\n\u001b[1;32m      4\u001b[0m window2 \u001b[39m=\u001b[39m WindowGenerator2(input_width\u001b[39m=\u001b[39m\u001b[39m10\u001b[39m, label_width\u001b[39m=\u001b[39m\u001b[39m10\u001b[39m, shift\u001b[39m=\u001b[39m\u001b[39m1\u001b[39m, label_columns\u001b[39m=\u001b[39m[\u001b[39m'\u001b[39m\u001b[39mPrice\u001b[39m\u001b[39m'\u001b[39m], train_df\u001b[39m=\u001b[39mtrain_df2, val_df\u001b[39m=\u001b[39mval_df2, test_df\u001b[39m=\u001b[39mtest_df2)\n\u001b[1;32m      6\u001b[0m window\n",
      "\u001b[0;31mNameError\u001b[0m: name 'WindowGenerator' is not defined"
     ]
    }
   ],
   "source": [
    "window = WindowGenerator(input_width=10, label_width=10, shift=1, label_columns=['Price'], train_df=train_df, val_df=val_df, test_df=test_df)\n",
    "\n",
    "window2 = WindowGenerator2(input_width=10, label_width=10, shift=1, label_columns=['Price'], train_df=train_df2, val_df=val_df2, test_df=test_df2)\n",
    "\n",
    "window"
   ]
  },
  {
   "cell_type": "code",
   "execution_count": null,
   "metadata": {},
   "outputs": [],
   "source": [
    "example_window = tf.stack([np.array(train_df[:window.total_window_size]),\n",
    "                           np.array(train_df[100:100+window.total_window_size]),\n",
    "                           np.array(train_df[200:200+window.total_window_size])])\n",
    "\n",
    "example_inputs, example_labels = window.split_window(example_window)\n",
    "\n",
    "print('All shapes are: (batch, time, features)')\n",
    "print(f'Window shape: {example_window.shape}')\n",
    "print(f'Inputs shape: {example_inputs.shape}')\n",
    "print(f'Labels shape: {example_labels.shape}')\n"
   ]
  },
  {
   "cell_type": "code",
   "execution_count": null,
   "metadata": {},
   "outputs": [],
   "source": [
    "lstm_model = tf.keras.models.Sequential([\n",
    "    tf.keras.layers.LSTM(32, return_sequences=True),\n",
    "    tf.keras.layers.Dense(units=1)\n",
    "])"
   ]
  },
  {
   "cell_type": "code",
   "execution_count": null,
   "metadata": {},
   "outputs": [],
   "source": [
    "print('Input shape:', window.example[0].shape)\n",
    "print('Output shape:', lstm_model(window.example[0]).shape)\n"
   ]
  },
  {
   "cell_type": "code",
   "execution_count": null,
   "metadata": {},
   "outputs": [],
   "source": [
    "lstm_model.compile(loss=tf.keras.losses.MeanSquaredError(),\n",
    "                   optimizer=tf.keras.optimizers.Adam(),\n",
    "                   metrics=[tf.keras.metrics.MeanAbsoluteError()])\n"
   ]
  },
  {
   "cell_type": "code",
   "execution_count": null,
   "metadata": {},
   "outputs": [],
   "source": [
    "early_stopping = tf.keras.callbacks.EarlyStopping(monitor='val_loss',\n",
    "                                                  patience=2,\n",
    "                                                  mode='min')\n",
    "\n",
    "history = lstm_model.fit(window.train, epochs=20,\n",
    "                         validation_data=window.val,\n",
    "                         callbacks=[])"
   ]
  },
  {
   "cell_type": "code",
   "execution_count": null,
   "metadata": {},
   "outputs": [],
   "source": [
    "IPython.display.clear_output()\n",
    "val_performance_lstm = lstm_model.evaluate(window.val)\n",
    "performance_lstm = lstm_model.evaluate(window.test, verbose=0)"
   ]
  },
  {
   "cell_type": "code",
   "execution_count": null,
   "metadata": {},
   "outputs": [],
   "source": [
    "window.plot(lstm_model)"
   ]
  }
 ],
 "metadata": {
  "kernelspec": {
   "display_name": ".venv",
   "language": "python",
   "name": "python3"
  },
  "language_info": {
   "codemirror_mode": {
    "name": "ipython",
    "version": 3
   },
   "file_extension": ".py",
   "mimetype": "text/x-python",
   "name": "python",
   "nbconvert_exporter": "python",
   "pygments_lexer": "ipython3",
   "version": "3.10.6"
  },
  "orig_nbformat": 4
 },
 "nbformat": 4,
 "nbformat_minor": 2
}
