{
 "cells": [
  {
   "cell_type": "code",
   "execution_count": 1,
   "metadata": {},
   "outputs": [
    {
     "name": "stderr",
     "output_type": "stream",
     "text": [
      "2023-03-28 17:03:08.476812: I tensorflow/tsl/cuda/cudart_stub.cc:28] Could not find cuda drivers on your machine, GPU will not be used.\n",
      "2023-03-28 17:03:08.512756: I tensorflow/tsl/cuda/cudart_stub.cc:28] Could not find cuda drivers on your machine, GPU will not be used.\n",
      "2023-03-28 17:03:08.513162: I tensorflow/core/platform/cpu_feature_guard.cc:182] This TensorFlow binary is optimized to use available CPU instructions in performance-critical operations.\n",
      "To enable the following instructions: AVX2 FMA, in other operations, rebuild TensorFlow with the appropriate compiler flags.\n",
      "2023-03-28 17:03:09.236662: W tensorflow/compiler/tf2tensorrt/utils/py_utils.cc:38] TF-TRT Warning: Could not find TensorRT\n"
     ]
    }
   ],
   "source": [
    "import tensorflow as tf\n",
    "import pandas as pl\n",
    "import numpy as np\n",
    "import IPython\n",
    "\n",
    "from window_generator import WindowGenerator"
   ]
  },
  {
   "cell_type": "code",
   "execution_count": 2,
   "metadata": {},
   "outputs": [],
   "source": [
    "df = pl.read_csv(\"../data/F_prices.csv\")\n",
    "\n",
    "# clean data\n",
    "# df.drop_in_place('Date')\n",
    "df = df.drop(columns='Date')\n",
    "\n",
    "# split data\n",
    "n = len(df)\n",
    "train_df = df[0:int(n*0.7)]\n",
    "val_df = df[int(n*0.7):int(n*0.9)]\n",
    "test_df = df[int(n*0.9):]"
   ]
  },
  {
   "cell_type": "code",
   "execution_count": 3,
   "metadata": {},
   "outputs": [
    {
     "name": "stdout",
     "output_type": "stream",
     "text": [
      "         Price    Volume\n",
      "0     0.251450   1091238\n",
      "1     0.250977   1174468\n",
      "2     0.250977   5209582\n",
      "3     0.248135   1424158\n",
      "4     0.246715    675088\n",
      "...        ...       ...\n",
      "8966  4.282694  51625000\n",
      "8967  4.337996  51345200\n",
      "8968  4.294983  52307700\n",
      "8969  4.233540  39308200\n",
      "8970  4.178239  32642300\n",
      "\n",
      "[8971 rows x 2 columns]           Price    Volume\n",
      "8971   4.184383  43893100\n",
      "8972   4.153661  30154300\n",
      "8973   4.172093  29402600\n",
      "8974   4.172093  38574200\n",
      "8975   4.147517  12102200\n",
      "...         ...       ...\n",
      "11529  8.596539  28208300\n",
      "11530  8.476699  41041800\n",
      "11531  8.492680  27617900\n",
      "11532  8.468709  36037700\n",
      "11533  8.492680  25409600\n",
      "\n",
      "[2563 rows x 2 columns]            Price    Volume\n",
      "11534   8.548603  21786800\n",
      "11535   8.700401  27157800\n",
      "11536   8.476699  43502000\n",
      "11537   8.476699  41321400\n",
      "11538   8.221042  75841400\n",
      "...          ...       ...\n",
      "12811  11.480000  69729100\n",
      "12812  11.420000  74225300\n",
      "12813  11.510000  72425300\n",
      "12814  11.520000  55899200\n",
      "12815  11.580000  28695779\n",
      "\n",
      "[1282 rows x 2 columns]\n"
     ]
    }
   ],
   "source": [
    "print(train_df, val_df, test_df)"
   ]
  },
  {
   "cell_type": "code",
   "execution_count": 4,
   "metadata": {},
   "outputs": [
    {
     "data": {
      "text/plain": [
       "Total window size: 11\n",
       "Input indices: [0 1 2 3 4 5 6 7 8 9]\n",
       "Label indices: [ 1  2  3  4  5  6  7  8  9 10]\n",
       "Label column name(s): ['Price']"
      ]
     },
     "execution_count": 4,
     "metadata": {},
     "output_type": "execute_result"
    }
   ],
   "source": [
    "window = WindowGenerator(input_width=10, label_width=10, shift=1, label_columns=['Price'], train_df=train_df, val_df=val_df, test_df=test_df)\n",
    "\n",
    "window"
   ]
  },
  {
   "cell_type": "code",
   "execution_count": 5,
   "metadata": {},
   "outputs": [
    {
     "name": "stdout",
     "output_type": "stream",
     "text": [
      "All shapes are: (batch, time, features)\n",
      "Window shape: (3, 11, 2)\n",
      "Inputs shape: (3, 10, 2)\n",
      "Labels shape: (3, 10, 1)\n"
     ]
    },
    {
     "name": "stderr",
     "output_type": "stream",
     "text": [
      "2023-03-28 17:03:10.207539: E tensorflow/compiler/xla/stream_executor/cuda/cuda_driver.cc:266] failed call to cuInit: CUDA_ERROR_UNKNOWN: unknown error\n",
      "2023-03-28 17:03:10.207568: I tensorflow/compiler/xla/stream_executor/cuda/cuda_diagnostics.cc:168] retrieving CUDA diagnostic information for host: gone\n",
      "2023-03-28 17:03:10.207574: I tensorflow/compiler/xla/stream_executor/cuda/cuda_diagnostics.cc:175] hostname: gone\n",
      "2023-03-28 17:03:10.207640: I tensorflow/compiler/xla/stream_executor/cuda/cuda_diagnostics.cc:199] libcuda reported version is: 515.86.1\n",
      "2023-03-28 17:03:10.207658: I tensorflow/compiler/xla/stream_executor/cuda/cuda_diagnostics.cc:203] kernel reported version is: 515.86.1\n",
      "2023-03-28 17:03:10.207663: I tensorflow/compiler/xla/stream_executor/cuda/cuda_diagnostics.cc:309] kernel version seems to match DSO: 515.86.1\n"
     ]
    }
   ],
   "source": [
    "example_window = tf.stack([np.array(train_df[:window.total_window_size]),\n",
    "                           np.array(train_df[100:100+window.total_window_size]),\n",
    "                           np.array(train_df[200:200+window.total_window_size])])\n",
    "\n",
    "example_inputs, example_labels = window.split_window(example_window)\n",
    "\n",
    "print('All shapes are: (batch, time, features)')\n",
    "print(f'Window shape: {example_window.shape}')\n",
    "print(f'Inputs shape: {example_inputs.shape}')\n",
    "print(f'Labels shape: {example_labels.shape}')\n"
   ]
  },
  {
   "cell_type": "code",
   "execution_count": 6,
   "metadata": {},
   "outputs": [],
   "source": [
    "lstm_model = tf.keras.models.Sequential([\n",
    "    tf.keras.layers.LSTM(32, return_sequences=True),\n",
    "    tf.keras.layers.Dense(units=1)\n",
    "])"
   ]
  },
  {
   "cell_type": "code",
   "execution_count": 7,
   "metadata": {},
   "outputs": [
    {
     "name": "stderr",
     "output_type": "stream",
     "text": [
      "2023-03-28 17:03:10.391850: I tensorflow/core/common_runtime/executor.cc:1197] [/device:CPU:0] (DEBUG INFO) Executor start aborting (this does not indicate an error and you can ignore this message): INVALID_ARGUMENT: You must feed a value for placeholder tensor 'Placeholder/_0' with dtype float and shape [8971,2]\n",
      "\t [[{{node Placeholder/_0}}]]\n",
      "2023-03-28 17:03:10.392205: I tensorflow/core/common_runtime/executor.cc:1197] [/device:CPU:0] (DEBUG INFO) Executor start aborting (this does not indicate an error and you can ignore this message): INVALID_ARGUMENT: You must feed a value for placeholder tensor 'Placeholder/_14' with dtype int32\n",
      "\t [[{{node Placeholder/_14}}]]\n"
     ]
    },
    {
     "name": "stdout",
     "output_type": "stream",
     "text": [
      "Input shape: (32, 10, 2)\n",
      "Output shape: (32, 10, 1)\n"
     ]
    },
    {
     "name": "stderr",
     "output_type": "stream",
     "text": [
      "2023-03-28 17:03:10.672938: I tensorflow/core/common_runtime/executor.cc:1197] [/device:CPU:0] (DEBUG INFO) Executor start aborting (this does not indicate an error and you can ignore this message): INVALID_ARGUMENT: You must feed a value for placeholder tensor 'gradients/split_2_grad/concat/split_2/split_dim' with dtype int32\n",
      "\t [[{{node gradients/split_2_grad/concat/split_2/split_dim}}]]\n",
      "2023-03-28 17:03:10.674555: I tensorflow/core/common_runtime/executor.cc:1197] [/device:CPU:0] (DEBUG INFO) Executor start aborting (this does not indicate an error and you can ignore this message): INVALID_ARGUMENT: You must feed a value for placeholder tensor 'gradients/split_grad/concat/split/split_dim' with dtype int32\n",
      "\t [[{{node gradients/split_grad/concat/split/split_dim}}]]\n",
      "2023-03-28 17:03:10.675959: I tensorflow/core/common_runtime/executor.cc:1197] [/device:CPU:0] (DEBUG INFO) Executor start aborting (this does not indicate an error and you can ignore this message): INVALID_ARGUMENT: You must feed a value for placeholder tensor 'gradients/split_1_grad/concat/split_1/split_dim' with dtype int32\n",
      "\t [[{{node gradients/split_1_grad/concat/split_1/split_dim}}]]\n"
     ]
    }
   ],
   "source": [
    "print('Input shape:', window.example[0].shape)\n",
    "print('Output shape:', lstm_model(window.example[0]).shape)\n"
   ]
  },
  {
   "cell_type": "code",
   "execution_count": 8,
   "metadata": {},
   "outputs": [],
   "source": [
    "lstm_model.compile(loss=tf.keras.losses.MeanSquaredError(),\n",
    "                   optimizer=tf.keras.optimizers.Adam(),\n",
    "                   metrics=[tf.keras.metrics.MeanAbsoluteError()])\n"
   ]
  },
  {
   "cell_type": "code",
   "execution_count": 9,
   "metadata": {},
   "outputs": [
    {
     "name": "stdout",
     "output_type": "stream",
     "text": [
      "Epoch 1/20\n"
     ]
    },
    {
     "name": "stderr",
     "output_type": "stream",
     "text": [
      "2023-03-28 17:03:10.905203: I tensorflow/core/common_runtime/executor.cc:1197] [/device:CPU:0] (DEBUG INFO) Executor start aborting (this does not indicate an error and you can ignore this message): INVALID_ARGUMENT: You must feed a value for placeholder tensor 'Placeholder/_14' with dtype int32\n",
      "\t [[{{node Placeholder/_14}}]]\n",
      "2023-03-28 17:03:10.905552: I tensorflow/core/common_runtime/executor.cc:1197] [/device:CPU:0] (DEBUG INFO) Executor start aborting (this does not indicate an error and you can ignore this message): INVALID_ARGUMENT: You must feed a value for placeholder tensor 'Placeholder/_14' with dtype int32\n",
      "\t [[{{node Placeholder/_14}}]]\n",
      "2023-03-28 17:03:11.083108: I tensorflow/core/common_runtime/executor.cc:1197] [/device:CPU:0] (DEBUG INFO) Executor start aborting (this does not indicate an error and you can ignore this message): INVALID_ARGUMENT: You must feed a value for placeholder tensor 'gradients/split_2_grad/concat/split_2/split_dim' with dtype int32\n",
      "\t [[{{node gradients/split_2_grad/concat/split_2/split_dim}}]]\n",
      "2023-03-28 17:03:11.084171: I tensorflow/core/common_runtime/executor.cc:1197] [/device:CPU:0] (DEBUG INFO) Executor start aborting (this does not indicate an error and you can ignore this message): INVALID_ARGUMENT: You must feed a value for placeholder tensor 'gradients/split_grad/concat/split/split_dim' with dtype int32\n",
      "\t [[{{node gradients/split_grad/concat/split/split_dim}}]]\n",
      "2023-03-28 17:03:11.085363: I tensorflow/core/common_runtime/executor.cc:1197] [/device:CPU:0] (DEBUG INFO) Executor start aborting (this does not indicate an error and you can ignore this message): INVALID_ARGUMENT: You must feed a value for placeholder tensor 'gradients/split_1_grad/concat/split_1/split_dim' with dtype int32\n",
      "\t [[{{node gradients/split_1_grad/concat/split_1/split_dim}}]]\n",
      "2023-03-28 17:03:11.251397: I tensorflow/core/common_runtime/executor.cc:1197] [/device:CPU:0] (DEBUG INFO) Executor start aborting (this does not indicate an error and you can ignore this message): INVALID_ARGUMENT: You must feed a value for placeholder tensor 'gradients/split_2_grad/concat/split_2/split_dim' with dtype int32\n",
      "\t [[{{node gradients/split_2_grad/concat/split_2/split_dim}}]]\n",
      "2023-03-28 17:03:11.253444: I tensorflow/core/common_runtime/executor.cc:1197] [/device:CPU:0] (DEBUG INFO) Executor start aborting (this does not indicate an error and you can ignore this message): INVALID_ARGUMENT: You must feed a value for placeholder tensor 'gradients/split_grad/concat/split/split_dim' with dtype int32\n",
      "\t [[{{node gradients/split_grad/concat/split/split_dim}}]]\n",
      "2023-03-28 17:03:11.254955: I tensorflow/core/common_runtime/executor.cc:1197] [/device:CPU:0] (DEBUG INFO) Executor start aborting (this does not indicate an error and you can ignore this message): INVALID_ARGUMENT: You must feed a value for placeholder tensor 'gradients/split_1_grad/concat/split_1/split_dim' with dtype int32\n",
      "\t [[{{node gradients/split_1_grad/concat/split_1/split_dim}}]]\n",
      "2023-03-28 17:03:11.751685: I tensorflow/core/common_runtime/executor.cc:1197] [/device:CPU:0] (DEBUG INFO) Executor start aborting (this does not indicate an error and you can ignore this message): INVALID_ARGUMENT: You must feed a value for placeholder tensor 'gradients/split_2_grad/concat/split_2/split_dim' with dtype int32\n",
      "\t [[{{node gradients/split_2_grad/concat/split_2/split_dim}}]]\n",
      "2023-03-28 17:03:11.754931: I tensorflow/core/common_runtime/executor.cc:1197] [/device:CPU:0] (DEBUG INFO) Executor start aborting (this does not indicate an error and you can ignore this message): INVALID_ARGUMENT: You must feed a value for placeholder tensor 'gradients/split_grad/concat/split/split_dim' with dtype int32\n",
      "\t [[{{node gradients/split_grad/concat/split/split_dim}}]]\n",
      "2023-03-28 17:03:11.756267: I tensorflow/core/common_runtime/executor.cc:1197] [/device:CPU:0] (DEBUG INFO) Executor start aborting (this does not indicate an error and you can ignore this message): INVALID_ARGUMENT: You must feed a value for placeholder tensor 'gradients/split_1_grad/concat/split_1/split_dim' with dtype int32\n",
      "\t [[{{node gradients/split_1_grad/concat/split_1/split_dim}}]]\n"
     ]
    },
    {
     "name": "stdout",
     "output_type": "stream",
     "text": [
      "277/281 [============================>.] - ETA: 0s - loss: 29.1138 - mean_absolute_error: 3.6562"
     ]
    },
    {
     "name": "stderr",
     "output_type": "stream",
     "text": [
      "2023-03-28 17:03:13.706587: I tensorflow/core/common_runtime/executor.cc:1197] [/device:CPU:0] (DEBUG INFO) Executor start aborting (this does not indicate an error and you can ignore this message): INVALID_ARGUMENT: You must feed a value for placeholder tensor 'Placeholder/_14' with dtype int32\n",
      "\t [[{{node Placeholder/_14}}]]\n",
      "2023-03-28 17:03:13.707011: I tensorflow/core/common_runtime/executor.cc:1197] [/device:CPU:0] (DEBUG INFO) Executor start aborting (this does not indicate an error and you can ignore this message): INVALID_ARGUMENT: You must feed a value for placeholder tensor 'Placeholder/_13' with dtype int32\n",
      "\t [[{{node Placeholder/_13}}]]\n",
      "2023-03-28 17:03:13.890379: I tensorflow/core/common_runtime/executor.cc:1197] [/device:CPU:0] (DEBUG INFO) Executor start aborting (this does not indicate an error and you can ignore this message): INVALID_ARGUMENT: You must feed a value for placeholder tensor 'gradients/split_2_grad/concat/split_2/split_dim' with dtype int32\n",
      "\t [[{{node gradients/split_2_grad/concat/split_2/split_dim}}]]\n",
      "2023-03-28 17:03:13.891347: I tensorflow/core/common_runtime/executor.cc:1197] [/device:CPU:0] (DEBUG INFO) Executor start aborting (this does not indicate an error and you can ignore this message): INVALID_ARGUMENT: You must feed a value for placeholder tensor 'gradients/split_grad/concat/split/split_dim' with dtype int32\n",
      "\t [[{{node gradients/split_grad/concat/split/split_dim}}]]\n",
      "2023-03-28 17:03:13.892435: I tensorflow/core/common_runtime/executor.cc:1197] [/device:CPU:0] (DEBUG INFO) Executor start aborting (this does not indicate an error and you can ignore this message): INVALID_ARGUMENT: You must feed a value for placeholder tensor 'gradients/split_1_grad/concat/split_1/split_dim' with dtype int32\n",
      "\t [[{{node gradients/split_1_grad/concat/split_1/split_dim}}]]\n"
     ]
    },
    {
     "name": "stdout",
     "output_type": "stream",
     "text": [
      "281/281 [==============================] - 3s 6ms/step - loss: 29.1209 - mean_absolute_error: 3.6556 - val_loss: 56.3420 - val_mean_absolute_error: 7.0228\n",
      "Epoch 2/20\n",
      "281/281 [==============================] - 1s 5ms/step - loss: 21.4802 - mean_absolute_error: 3.1097 - val_loss: 41.9462 - val_mean_absolute_error: 5.9601\n",
      "Epoch 3/20\n",
      "281/281 [==============================] - 1s 5ms/step - loss: 17.9951 - mean_absolute_error: 2.9922 - val_loss: 33.2507 - val_mean_absolute_error: 5.2502\n",
      "Epoch 4/20\n",
      "281/281 [==============================] - 1s 5ms/step - loss: 16.6323 - mean_absolute_error: 3.0270 - val_loss: 28.3378 - val_mean_absolute_error: 4.8139\n",
      "Epoch 5/20\n",
      "281/281 [==============================] - 1s 5ms/step - loss: 16.2465 - mean_absolute_error: 3.0846 - val_loss: 25.9000 - val_mean_absolute_error: 4.5889\n",
      "Epoch 6/20\n",
      "281/281 [==============================] - 1s 5ms/step - loss: 16.1583 - mean_absolute_error: 3.1185 - val_loss: 24.8017 - val_mean_absolute_error: 4.4857\n",
      "Epoch 7/20\n",
      "281/281 [==============================] - 1s 5ms/step - loss: 16.1454 - mean_absolute_error: 3.1339 - val_loss: 24.4080 - val_mean_absolute_error: 4.4485\n",
      "Epoch 8/20\n",
      "281/281 [==============================] - 1s 5ms/step - loss: 16.1441 - mean_absolute_error: 3.1395 - val_loss: 24.1948 - val_mean_absolute_error: 4.4283\n",
      "Epoch 9/20\n",
      "281/281 [==============================] - 1s 5ms/step - loss: 16.1446 - mean_absolute_error: 3.1439 - val_loss: 24.0931 - val_mean_absolute_error: 4.4186\n",
      "Epoch 10/20\n",
      "281/281 [==============================] - 1s 5ms/step - loss: 16.1443 - mean_absolute_error: 3.1440 - val_loss: 24.1187 - val_mean_absolute_error: 4.4211\n",
      "Epoch 11/20\n",
      "281/281 [==============================] - 1s 5ms/step - loss: 16.1440 - mean_absolute_error: 3.1423 - val_loss: 24.1100 - val_mean_absolute_error: 4.4202\n",
      "Epoch 12/20\n",
      "281/281 [==============================] - 1s 5ms/step - loss: 16.1476 - mean_absolute_error: 3.1507 - val_loss: 24.0107 - val_mean_absolute_error: 4.4108\n",
      "Epoch 13/20\n",
      "281/281 [==============================] - 1s 5ms/step - loss: 16.1449 - mean_absolute_error: 3.1458 - val_loss: 24.0745 - val_mean_absolute_error: 4.4169\n",
      "Epoch 14/20\n",
      "281/281 [==============================] - 1s 5ms/step - loss: 16.1447 - mean_absolute_error: 3.1453 - val_loss: 24.0578 - val_mean_absolute_error: 4.4153\n",
      "Epoch 15/20\n",
      "281/281 [==============================] - 1s 5ms/step - loss: 16.1446 - mean_absolute_error: 3.1436 - val_loss: 24.0954 - val_mean_absolute_error: 4.4189\n",
      "Epoch 16/20\n",
      "281/281 [==============================] - 1s 5ms/step - loss: 16.1457 - mean_absolute_error: 3.1475 - val_loss: 23.9671 - val_mean_absolute_error: 4.4067\n",
      "Epoch 17/20\n",
      "281/281 [==============================] - 1s 5ms/step - loss: 16.1437 - mean_absolute_error: 3.1430 - val_loss: 24.0958 - val_mean_absolute_error: 4.4189\n",
      "Epoch 18/20\n",
      "281/281 [==============================] - 1s 5ms/step - loss: 16.1451 - mean_absolute_error: 3.1454 - val_loss: 23.9948 - val_mean_absolute_error: 4.4093\n",
      "Epoch 19/20\n",
      "281/281 [==============================] - 1s 5ms/step - loss: 16.1460 - mean_absolute_error: 3.1474 - val_loss: 23.9925 - val_mean_absolute_error: 4.4091\n",
      "Epoch 20/20\n",
      "281/281 [==============================] - 1s 5ms/step - loss: 16.1457 - mean_absolute_error: 3.1457 - val_loss: 24.0404 - val_mean_absolute_error: 4.4137\n"
     ]
    }
   ],
   "source": [
    "early_stopping = tf.keras.callbacks.EarlyStopping(monitor='val_loss',\n",
    "                                                  patience=2,\n",
    "                                                  mode='min')\n",
    "\n",
    "history = lstm_model.fit(window.train, epochs=20,\n",
    "                         validation_data=window.val,\n",
    "                         callbacks=[])"
   ]
  },
  {
   "cell_type": "code",
   "execution_count": 10,
   "metadata": {},
   "outputs": [
    {
     "name": "stdout",
     "output_type": "stream",
     "text": [
      "77/80 [===========================>..] - ETA: 0s - loss: 23.8941 - mean_absolute_error: 4.3971"
     ]
    },
    {
     "name": "stderr",
     "output_type": "stream",
     "text": [
      "2023-03-28 17:03:41.276934: I tensorflow/core/common_runtime/executor.cc:1197] [/device:CPU:0] (DEBUG INFO) Executor start aborting (this does not indicate an error and you can ignore this message): INVALID_ARGUMENT: You must feed a value for placeholder tensor 'Placeholder/_13' with dtype int32\n",
      "\t [[{{node Placeholder/_13}}]]\n",
      "2023-03-28 17:03:41.277287: I tensorflow/core/common_runtime/executor.cc:1197] [/device:CPU:0] (DEBUG INFO) Executor start aborting (this does not indicate an error and you can ignore this message): INVALID_ARGUMENT: You must feed a value for placeholder tensor 'Placeholder/_0' with dtype float and shape [2563,2]\n",
      "\t [[{{node Placeholder/_0}}]]\n"
     ]
    },
    {
     "name": "stdout",
     "output_type": "stream",
     "text": [
      "80/80 [==============================] - 0s 2ms/step - loss: 24.0404 - mean_absolute_error: 4.4137\n"
     ]
    },
    {
     "name": "stderr",
     "output_type": "stream",
     "text": [
      "2023-03-28 17:03:41.524654: I tensorflow/core/common_runtime/executor.cc:1197] [/device:CPU:0] (DEBUG INFO) Executor start aborting (this does not indicate an error and you can ignore this message): INVALID_ARGUMENT: You must feed a value for placeholder tensor 'Placeholder/_0' with dtype float and shape [1282,2]\n",
      "\t [[{{node Placeholder/_0}}]]\n",
      "2023-03-28 17:03:41.525106: I tensorflow/core/common_runtime/executor.cc:1197] [/device:CPU:0] (DEBUG INFO) Executor start aborting (this does not indicate an error and you can ignore this message): INVALID_ARGUMENT: You must feed a value for placeholder tensor 'Placeholder/_13' with dtype int32\n",
      "\t [[{{node Placeholder/_13}}]]\n"
     ]
    }
   ],
   "source": [
    "IPython.display.clear_output()\n",
    "val_performance_lstm = lstm_model.evaluate(window.val)\n",
    "performance_lstm = lstm_model.evaluate(window.test, verbose=0)"
   ]
  },
  {
   "cell_type": "code",
   "execution_count": 11,
   "metadata": {},
   "outputs": [
    {
     "name": "stdout",
     "output_type": "stream",
     "text": [
      "[24.040401458740234, 4.413681983947754] [52.03739929199219, 6.331363201141357]\n"
     ]
    }
   ],
   "source": [
    "print(val_performance_lstm, performance_lstm)"
   ]
  }
 ],
 "metadata": {
  "kernelspec": {
   "display_name": ".venv",
   "language": "python",
   "name": "python3"
  },
  "language_info": {
   "codemirror_mode": {
    "name": "ipython",
    "version": 3
   },
   "file_extension": ".py",
   "mimetype": "text/x-python",
   "name": "python",
   "nbconvert_exporter": "python",
   "pygments_lexer": "ipython3",
   "version": "3.10.6"
  },
  "orig_nbformat": 4
 },
 "nbformat": 4,
 "nbformat_minor": 2
}
